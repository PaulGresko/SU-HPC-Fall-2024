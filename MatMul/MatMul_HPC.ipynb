{
  "cells": [
    {
      "cell_type": "markdown",
      "metadata": {
        "id": "CKqTgTdfwonn"
      },
      "source": [
        "Установка библиотеки pycuda"
      ]
    },
    {
      "cell_type": "code",
      "execution_count": 1,
      "metadata": {
        "colab": {
          "base_uri": "https://localhost:8080/"
        },
        "id": "kjzfL3_27EvO",
        "outputId": "a5535211-2904-4859-8bbd-45a1d9b8dcc8"
      },
      "outputs": [
        {
          "output_type": "stream",
          "name": "stdout",
          "text": [
            "Collecting pycuda\n",
            "  Downloading pycuda-2024.1.2.tar.gz (1.7 MB)\n",
            "\u001b[?25l     \u001b[90m━━━━━━━━━━━━━━━━━━━━━━━━━━━━━━━━━━━━━━━━\u001b[0m \u001b[32m0.0/1.7 MB\u001b[0m \u001b[31m?\u001b[0m eta \u001b[36m-:--:--\u001b[0m\r\u001b[2K     \u001b[91m━━━━━━━━━━━━━━━━━━━━━━━━━━━━━━━━━━━━━━━\u001b[0m\u001b[91m╸\u001b[0m \u001b[32m1.7/1.7 MB\u001b[0m \u001b[31m108.0 MB/s\u001b[0m eta \u001b[36m0:00:01\u001b[0m\r\u001b[2K     \u001b[90m━━━━━━━━━━━━━━━━━━━━━━━━━━━━━━━━━━━━━━━━\u001b[0m \u001b[32m1.7/1.7 MB\u001b[0m \u001b[31m46.5 MB/s\u001b[0m eta \u001b[36m0:00:00\u001b[0m\n",
            "\u001b[?25h  Installing build dependencies ... \u001b[?25l\u001b[?25hdone\n",
            "  Getting requirements to build wheel ... \u001b[?25l\u001b[?25hdone\n",
            "  Preparing metadata (pyproject.toml) ... \u001b[?25l\u001b[?25hdone\n",
            "Collecting pytools>=2011.2 (from pycuda)\n",
            "  Downloading pytools-2024.1.15-py3-none-any.whl.metadata (2.9 kB)\n",
            "Requirement already satisfied: platformdirs>=2.2.0 in /usr/local/lib/python3.10/dist-packages (from pycuda) (4.3.6)\n",
            "Collecting mako (from pycuda)\n",
            "  Downloading Mako-1.3.6-py3-none-any.whl.metadata (2.9 kB)\n",
            "Requirement already satisfied: typing-extensions>=4 in /usr/local/lib/python3.10/dist-packages (from pytools>=2011.2->pycuda) (4.12.2)\n",
            "Requirement already satisfied: MarkupSafe>=0.9.2 in /usr/local/lib/python3.10/dist-packages (from mako->pycuda) (3.0.2)\n",
            "Downloading pytools-2024.1.15-py3-none-any.whl (88 kB)\n",
            "\u001b[2K   \u001b[90m━━━━━━━━━━━━━━━━━━━━━━━━━━━━━━━━━━━━━━━━\u001b[0m \u001b[32m88.6/88.6 kB\u001b[0m \u001b[31m7.7 MB/s\u001b[0m eta \u001b[36m0:00:00\u001b[0m\n",
            "\u001b[?25hDownloading Mako-1.3.6-py3-none-any.whl (78 kB)\n",
            "\u001b[2K   \u001b[90m━━━━━━━━━━━━━━━━━━━━━━━━━━━━━━━━━━━━━━━━\u001b[0m \u001b[32m78.6/78.6 kB\u001b[0m \u001b[31m8.2 MB/s\u001b[0m eta \u001b[36m0:00:00\u001b[0m\n",
            "\u001b[?25hBuilding wheels for collected packages: pycuda\n",
            "  Building wheel for pycuda (pyproject.toml) ... \u001b[?25l\u001b[?25hdone\n",
            "  Created wheel for pycuda: filename=pycuda-2024.1.2-cp310-cp310-linux_x86_64.whl size=660546 sha256=cc117ed691fb8f57355810087d307017739f378923eb6a7a4fa7e4d97965a781\n",
            "  Stored in directory: /root/.cache/pip/wheels/70/63/40/4bf006182f942d3516b71bb2ff3b57ccbdb8b2c0ee81882b6e\n",
            "Successfully built pycuda\n",
            "Installing collected packages: pytools, mako, pycuda\n",
            "Successfully installed mako-1.3.6 pycuda-2024.1.2 pytools-2024.1.15\n"
          ]
        }
      ],
      "source": [
        "!pip install pycuda"
      ]
    },
    {
      "cell_type": "markdown",
      "metadata": {
        "id": "rRqjSPgnwt1Z"
      },
      "source": [
        "Импорт нужных библиотек и вывод информации о текущем GPU"
      ]
    },
    {
      "cell_type": "code",
      "execution_count": 2,
      "metadata": {
        "colab": {
          "base_uri": "https://localhost:8080/",
          "height": 35
        },
        "id": "HkZM79qDCdLN",
        "outputId": "f41bf954-14a6-49bd-da78-42225db634de"
      },
      "outputs": [
        {
          "output_type": "execute_result",
          "data": {
            "text/plain": [
              "'Tesla T4'"
            ],
            "application/vnd.google.colaboratory.intrinsic+json": {
              "type": "string"
            }
          },
          "metadata": {},
          "execution_count": 2
        }
      ],
      "source": [
        "import numpy as np\n",
        "import pandas as pd\n",
        "from time import time\n",
        "import matplotlib.pyplot as plt\n",
        "\n",
        "import pycuda.autoinit\n",
        "from pycuda import driver, compiler, gpuarray, tools\n",
        "tools.make_default_context().get_device().name()"
      ]
    },
    {
      "cell_type": "markdown",
      "metadata": {
        "id": "eqW-hVhHwxq1"
      },
      "source": [
        "Информация о текущем CPU"
      ]
    },
    {
      "cell_type": "code",
      "execution_count": 3,
      "metadata": {
        "colab": {
          "base_uri": "https://localhost:8080/"
        },
        "id": "vl__iqv_D284",
        "outputId": "da6bfcc3-45e3-40e4-9744-bea026c2e226"
      },
      "outputs": [
        {
          "output_type": "stream",
          "name": "stdout",
          "text": [
            "Model name:                           Intel(R) Xeon(R) CPU @ 2.00GHz\n"
          ]
        }
      ],
      "source": [
        "!lscpu |grep 'Model name'"
      ]
    },
    {
      "cell_type": "markdown",
      "metadata": {
        "id": "8SjLPiy6xEMC"
      },
      "source": [
        "Написание кода ядра"
      ]
    },
    {
      "cell_type": "code",
      "execution_count": 4,
      "metadata": {
        "id": "TDg_GXHoD99S"
      },
      "outputs": [],
      "source": [
        "matmul_kernel = \"\"\"\n",
        "    __global__ void MatMulKernel(const float *a, const float *b, float *c, const int size)\n",
        "    {\n",
        "        int column = threadIdx.x + blockIdx.x * blockDim.x;\n",
        "        int row = threadIdx.y + blockIdx.y * blockDim.y;\n",
        "\n",
        "        float sum = 0;\n",
        "\n",
        "        for (int i = 0; i < size; i++) {\n",
        "            sum += a[row * size + i] * b[i * size + column];\n",
        "        }\n",
        "\n",
        "        c[row * size + column] = sum;\n",
        "    }\n",
        "\"\"\"\n",
        "\n",
        "matmul = compiler.SourceModule(matmul_kernel).get_function(\"MatMulKernel\")"
      ]
    },
    {
      "cell_type": "markdown",
      "metadata": {
        "id": "ZiyqjK10xYfL"
      },
      "source": [
        "Расчёт времени матричного умножения"
      ]
    },
    {
      "cell_type": "code",
      "execution_count": 5,
      "metadata": {
        "colab": {
          "base_uri": "https://localhost:8080/"
        },
        "id": "7Wr6r_trK07r",
        "outputId": "3d674899-f9a8-485c-c60e-088e9c78c95e"
      },
      "outputs": [
        {
          "output_type": "stream",
          "name": "stdout",
          "text": [
            "Size = 128. numpy_c равен host_c с погрешностью 0.0001?\tTrue\n",
            "Size = 256. numpy_c равен host_c с погрешностью 0.0001?\tTrue\n",
            "Size = 512. numpy_c равен host_c с погрешностью 0.0001?\tTrue\n"
          ]
        },
        {
          "output_type": "stream",
          "name": "stderr",
          "text": [
            "/usr/local/lib/python3.10/dist-packages/google/colab/_variable_inspector.py:27: UserWarning: device_allocation in out-of-thread context could not be cleaned up\n",
            "  globals().clear()\n"
          ]
        },
        {
          "output_type": "stream",
          "name": "stdout",
          "text": [
            "Size = 1024. numpy_c равен host_c с погрешностью 0.0001?\tTrue\n",
            "CPU = [6.659825642903645e-05, 0.0003541151682535807, 0.0027498722076416014, 0.018445380528767905]\n",
            "GPU = [0.00017355283101399738, 0.0004330317179361979, 0.0019585768381754558, 0.010252793629964193]\n"
          ]
        }
      ],
      "source": [
        "mean_times_host_matmul = []     # Массив, содержащий средние времена вычислений на CPU\n",
        "mean_times_dev_matmul = []      # Массив, содержащий средние времена вычислений на GPU\n",
        "epsilon = 0.0001                # Необходим для сравнения матриц из дробный чисел\n",
        "sizes = [128, 256, 512, 1024]    # Рассматриваемые размерности N матриц NxN\n",
        "count_iteration = 15            # Количество итераций без \"холодного старта\"\n",
        "\n",
        "for size in sizes:\n",
        "\n",
        "  # Создание данных и выделение памяти на CPU\n",
        "  host_a = np.random.randn(size, size).astype(np.float32)\n",
        "  host_b = np.random.randn(size, size).astype(np.float32)\n",
        "  host_c = np.zeros((size, size), dtype=np.float32)\n",
        "  numpy_c = np.zeros((size, size), dtype=np.float32)\n",
        "\n",
        "  # Выделение памяти на GPU\n",
        "  dev_a = driver.mem_alloc(host_a.nbytes)\n",
        "  dev_b = driver.mem_alloc(host_b.nbytes)\n",
        "  dev_c = driver.mem_alloc(host_c.nbytes)\n",
        "\n",
        "  \"\"\"\n",
        "  Вычисление размерности блоков и сетки блоков.\n",
        "  Каждый блок состоит из варпов (32 нити) и содержит макс. 1024 нити\n",
        "  \"\"\"\n",
        "  if size > 32:\n",
        "    gdim, remains = divmod(size, 32)  # divmod(a, b) return a // b, a % b\n",
        "\n",
        "    # Двумерный блок из 32 варпов\n",
        "    bdim = (32, 32, 1)\n",
        "    # Вычисление размерности сетки блоков\n",
        "    gdim = (gdim + (remains > 0), gdim + (remains > 0))\n",
        "  else:\n",
        "    bdim = (size, size, 1)\n",
        "    gdim = (1, 1)\n",
        "\n",
        "  # Массивы с временами на соответствующем устройстве для вычисления среднего\n",
        "  times_host_matmul = []\n",
        "  times_dev_matmul = []\n",
        "\n",
        "  for i in range(count_iteration + 1):\n",
        "    # Вычисление времени на GPU (с учётом пересылки данных)\n",
        "    start_time = time()\n",
        "    driver.memcpy_htod(dev_a, host_a)\n",
        "    driver.memcpy_htod(dev_b, host_b)\n",
        "    matmul(dev_a, dev_b, dev_c, np.int32(size), block=bdim, grid=gdim)\n",
        "    driver.memcpy_dtoh(host_c, dev_c)\n",
        "    end_time = time()\n",
        "    times_dev_matmul.append(end_time - start_time)\n",
        "\n",
        "    # Вычисление времени на CPU\n",
        "    start_time = time()\n",
        "    numpy_c = np.dot(host_a, host_b)\n",
        "    end_time = time()\n",
        "    times_host_matmul.append(end_time - start_time)\n",
        "\n",
        "  # Вычтсление среднего значения времени без \"холодного старта\"\n",
        "  mean_times_dev_matmul.append(np.mean(times_dev_matmul[1:]))\n",
        "  mean_times_host_matmul.append(np.mean(times_host_matmul[1:]))\n",
        "\n",
        "  # Сравнение матриц на CPU и на GPU с допустимой погрешностью в epsilon\n",
        "  print(f\"Size = {size}. numpy_c равен host_c с погрешностью {epsilon}?\\t\" +\n",
        "        str(np.allclose(numpy_c, host_c, atol=epsilon)))\n",
        "\n",
        "print(f\"CPU = {mean_times_host_matmul}\")\n",
        "print(f\"GPU = {mean_times_dev_matmul}\")"
      ]
    },
    {
      "cell_type": "markdown",
      "metadata": {
        "id": "fbwgRnHx2_eC"
      },
      "source": [
        "Сравнение скоростей двух реализаций"
      ]
    },
    {
      "cell_type": "code",
      "execution_count": 6,
      "metadata": {
        "colab": {
          "base_uri": "https://localhost:8080/",
          "height": 466
        },
        "id": "BRDVZp89wuzR",
        "outputId": "14b15759-9c7f-4af5-a8f9-a12c7db8b4d2"
      },
      "outputs": [
        {
          "output_type": "execute_result",
          "data": {
            "text/plain": [
              "<matplotlib.legend.Legend at 0x7d7c5ef4d0c0>"
            ]
          },
          "metadata": {},
          "execution_count": 6
        },
        {
          "output_type": "display_data",
          "data": {
            "text/plain": [
              "<Figure size 640x480 with 1 Axes>"
            ],
            "image/png": "[encoded data removed]"
          },
          "metadata": {}
        }
      ],
      "source": [
        "plt.plot(sizes, mean_times_host_matmul, color=\"blue\", label=\"CPU\")\n",
        "plt.plot(sizes, mean_times_dev_matmul, color=\"red\", label=\"GPU\")\n",
        "plt.xlabel(\"Размерность N матриц NxN\")\n",
        "plt.ylabel(\"Время, с\")\n",
        "plt.legend()"
      ]
    },
    {
      "cell_type": "markdown",
      "metadata": {
        "id": "DNLv9w7W3hh5"
      },
      "source": [
        "Визуализация ускорения на GPU"
      ]
    },
    {
      "cell_type": "code",
      "execution_count": 7,
      "metadata": {
        "colab": {
          "base_uri": "https://localhost:8080/",
          "height": 466
        },
        "id": "pxMw3MXIuCij",
        "outputId": "fc274226-86eb-4e67-ff6f-ecd40c570fe9"
      },
      "outputs": [
        {
          "output_type": "execute_result",
          "data": {
            "text/plain": [
              "Text(0, 0.5, 'Отношение времени на CPU к времени на GPU')"
            ]
          },
          "metadata": {},
          "execution_count": 7
        },
        {
          "output_type": "display_data",
          "data": {
            "text/plain": [
              "<Figure size 640x480 with 1 Axes>"
            ],
            "image/png": "[encoded data removed]"
          },
          "metadata": {}
        }
      ],
      "source": [
        "plt.plot(sizes, np.array(mean_times_host_matmul) / np.array(mean_times_dev_matmul))\n",
        "plt.xlabel(\"Размерность N матриц NxN\")\n",
        "plt.ylabel(\"Отношение времени на CPU к времени на GPU\")"
      ]
    },
    {
      "cell_type": "markdown",
      "metadata": {
        "id": "riSLzmap4HSt"
      },
      "source": [
        "Сохранение результатов в excel"
      ]
    },
    {
      "cell_type": "code",
      "execution_count": 8,
      "metadata": {
        "colab": {
          "base_uri": "https://localhost:8080/",
          "height": 175
        },
        "id": "8aMme_ZoQmBx",
        "outputId": "d7225d29-c21c-436a-db52-3f129d48ddb8"
      },
      "outputs": [
        {
          "output_type": "execute_result",
          "data": {
            "text/plain": [
              "           CPU       GPU\n",
              "128   0.000067  0.000174\n",
              "256   0.000354  0.000433\n",
              "512   0.002750  0.001959\n",
              "1024  0.018445  0.010253"
            ],
            "text/html": [
              "\n",
              "  <div id=\"df-a63fbbb9-8e61-4e97-92dc-c89a23ee4607\" class=\"colab-df-container\">\n",
              "    <div>\n",
              "<style scoped>\n",
              "    .dataframe tbody tr th:only-of-type {\n",
              "        vertical-align: middle;\n",
              "    }\n",
              "\n",
              "    .dataframe tbody tr th {\n",
              "        vertical-align: top;\n",
              "    }\n",
              "\n",
              "    .dataframe thead th {\n",
              "        text-align: right;\n",
              "    }\n",
              "</style>\n",
              "<table border=\"1\" class=\"dataframe\">\n",
              "  <thead>\n",
              "    <tr style=\"text-align: right;\">\n",
              "      <th></th>\n",
              "      <th>CPU</th>\n",
              "      <th>GPU</th>\n",
              "    </tr>\n",
              "  </thead>\n",
              "  <tbody>\n",
              "    <tr>\n",
              "      <th>128</th>\n",
              "      <td>0.000067</td>\n",
              "      <td>0.000174</td>\n",
              "    </tr>\n",
              "    <tr>\n",
              "      <th>256</th>\n",
              "      <td>0.000354</td>\n",
              "      <td>0.000433</td>\n",
              "    </tr>\n",
              "    <tr>\n",
              "      <th>512</th>\n",
              "      <td>0.002750</td>\n",
              "      <td>0.001959</td>\n",
              "    </tr>\n",
              "    <tr>\n",
              "      <th>1024</th>\n",
              "      <td>0.018445</td>\n",
              "      <td>0.010253</td>\n",
              "    </tr>\n",
              "  </tbody>\n",
              "</table>\n",
              "</div>\n",
              "    <div class=\"colab-df-buttons\">\n",
              "\n",
              "  <div class=\"colab-df-container\">\n",
              "    <button class=\"colab-df-convert\" onclick=\"convertToInteractive('df-a63fbbb9-8e61-4e97-92dc-c89a23ee4607')\"\n",
              "            title=\"Convert this dataframe to an interactive table.\"\n",
              "            style=\"display:none;\">\n",
              "\n",
              "  <svg xmlns=\"http://www.w3.org/2000/svg\" height=\"24px\" viewBox=\"0 -960 960 960\">\n",
              "    <path d=\"M120-120v-720h720v720H120Zm60-500h600v-160H180v160Zm220 220h160v-160H400v160Zm0 220h160v-160H400v160ZM180-400h160v-160H180v160Zm440 0h160v-160H620v160ZM180-180h160v-160H180v160Zm440 0h160v-160H620v160Z\"/>\n",
              "  </svg>\n",
              "    </button>\n",
              "\n",
              "  <style>\n",
              "    .colab-df-container {\n",
              "      display:flex;\n",
              "      gap: 12px;\n",
              "    }\n",
              "\n",
              "    .colab-df-convert {\n",
              "      background-color: #E8F0FE;\n",
              "      border: none;\n",
              "      border-radius: 50%;\n",
              "      cursor: pointer;\n",
              "      display: none;\n",
              "      fill: #1967D2;\n",
              "      height: 32px;\n",
              "      padding: 0 0 0 0;\n",
              "      width: 32px;\n",
              "    }\n",
              "\n",
              "    .colab-df-convert:hover {\n",
              "      background-color: #E2EBFA;\n",
              "      box-shadow: 0px 1px 2px rgba(60, 64, 67, 0.3), 0px 1px 3px 1px rgba(60, 64, 67, 0.15);\n",
              "      fill: #174EA6;\n",
              "    }\n",
              "\n",
              "    .colab-df-buttons div {\n",
              "      margin-bottom: 4px;\n",
              "    }\n",
              "\n",
              "    [theme=dark] .colab-df-convert {\n",
              "      background-color: #3B4455;\n",
              "      fill: #D2E3FC;\n",
              "    }\n",
              "\n",
              "    [theme=dark] .colab-df-convert:hover {\n",
              "      background-color: #434B5C;\n",
              "      box-shadow: 0px 1px 3px 1px rgba(0, 0, 0, 0.15);\n",
              "      filter: drop-shadow(0px 1px 2px rgba(0, 0, 0, 0.3));\n",
              "      fill: #FFFFFF;\n",
              "    }\n",
              "  </style>\n",
              "\n",
              "    <script>\n",
              "      const buttonEl =\n",
              "        document.querySelector('#df-a63fbbb9-8e61-4e97-92dc-c89a23ee4607 button.colab-df-convert');\n",
              "      buttonEl.style.display =\n",
              "        google.colab.kernel.accessAllowed ? 'block' : 'none';\n",
              "\n",
              "      async function convertToInteractive(key) {\n",
              "        const element = document.querySelector('#df-a63fbbb9-8e61-4e97-92dc-c89a23ee4607');\n",
              "        const dataTable =\n",
              "          await google.colab.kernel.invokeFunction('convertToInteractive',\n",
              "                                                    [key], {});\n",
              "        if (!dataTable) return;\n",
              "\n",
              "        const docLinkHtml = 'Like what you see? Visit the ' +\n",
              "          '<a target=\"_blank\" href=https://colab.research.google.com/notebooks/data_table.ipynb>data table notebook</a>'\n",
              "          + ' to learn more about interactive tables.';\n",
              "        element.innerHTML = '';\n",
              "        dataTable['output_type'] = 'display_data';\n",
              "        await google.colab.output.renderOutput(dataTable, element);\n",
              "        const docLink = document.createElement('div');\n",
              "        docLink.innerHTML = docLinkHtml;\n",
              "        element.appendChild(docLink);\n",
              "      }\n",
              "    </script>\n",
              "  </div>\n",
              "\n",
              "\n",
              "<div id=\"df-73c2d547-b94d-49cb-baff-802ee5f530e3\">\n",
              "  <button class=\"colab-df-quickchart\" onclick=\"quickchart('df-73c2d547-b94d-49cb-baff-802ee5f530e3')\"\n",
              "            title=\"Suggest charts\"\n",
              "            style=\"display:none;\">\n",
              "\n",
              "<svg xmlns=\"http://www.w3.org/2000/svg\" height=\"24px\"viewBox=\"0 0 24 24\"\n",
              "     width=\"24px\">\n",
              "    <g>\n",
              "        <path d=\"M19 3H5c-1.1 0-2 .9-2 2v14c0 1.1.9 2 2 2h14c1.1 0 2-.9 2-2V5c0-1.1-.9-2-2-2zM9 17H7v-7h2v7zm4 0h-2V7h2v10zm4 0h-2v-4h2v4z\"/>\n",
              "    </g>\n",
              "</svg>\n",
              "  </button>\n",
              "\n",
              "<style>\n",
              "  .colab-df-quickchart {\n",
              "      --bg-color: #E8F0FE;\n",
              "      --fill-color: #1967D2;\n",
              "      --hover-bg-color: #E2EBFA;\n",
              "      --hover-fill-color: #174EA6;\n",
              "      --disabled-fill-color: #AAA;\n",
              "      --disabled-bg-color: #DDD;\n",
              "  }\n",
              "\n",
              "  [theme=dark] .colab-df-quickchart {\n",
              "      --bg-color: #3B4455;\n",
              "      --fill-color: #D2E3FC;\n",
              "      --hover-bg-color: #434B5C;\n",
              "      --hover-fill-color: #FFFFFF;\n",
              "      --disabled-bg-color: #3B4455;\n",
              "      --disabled-fill-color: #666;\n",
              "  }\n",
              "\n",
              "  .colab-df-quickchart {\n",
              "    background-color: var(--bg-color);\n",
              "    border: none;\n",
              "    border-radius: 50%;\n",
              "    cursor: pointer;\n",
              "    display: none;\n",
              "    fill: var(--fill-color);\n",
              "    height: 32px;\n",
              "    padding: 0;\n",
              "    width: 32px;\n",
              "  }\n",
              "\n",
              "  .colab-df-quickchart:hover {\n",
              "    background-color: var(--hover-bg-color);\n",
              "    box-shadow: 0 1px 2px rgba(60, 64, 67, 0.3), 0 1px 3px 1px rgba(60, 64, 67, 0.15);\n",
              "    fill: var(--button-hover-fill-color);\n",
              "  }\n",
              "\n",
              "  .colab-df-quickchart-complete:disabled,\n",
              "  .colab-df-quickchart-complete:disabled:hover {\n",
              "    background-color: var(--disabled-bg-color);\n",
              "    fill: var(--disabled-fill-color);\n",
              "    box-shadow: none;\n",
              "  }\n",
              "\n",
              "  .colab-df-spinner {\n",
              "    border: 2px solid var(--fill-color);\n",
              "    border-color: transparent;\n",
              "    border-bottom-color: var(--fill-color);\n",
              "    animation:\n",
              "      spin 1s steps(1) infinite;\n",
              "  }\n",
              "\n",
              "  @keyframes spin {\n",
              "    0% {\n",
              "      border-color: transparent;\n",
              "      border-bottom-color: var(--fill-color);\n",
              "      border-left-color: var(--fill-color);\n",
              "    }\n",
              "    20% {\n",
              "      border-color: transparent;\n",
              "      border-left-color: var(--fill-color);\n",
              "      border-top-color: var(--fill-color);\n",
              "    }\n",
              "    30% {\n",
              "      border-color: transparent;\n",
              "      border-left-color: var(--fill-color);\n",
              "      border-top-color: var(--fill-color);\n",
              "      border-right-color: var(--fill-color);\n",
              "    }\n",
              "    40% {\n",
              "      border-color: transparent;\n",
              "      border-right-color: var(--fill-color);\n",
              "      border-top-color: var(--fill-color);\n",
              "    }\n",
              "    60% {\n",
              "      border-color: transparent;\n",
              "      border-right-color: var(--fill-color);\n",
              "    }\n",
              "    80% {\n",
              "      border-color: transparent;\n",
              "      border-right-color: var(--fill-color);\n",
              "      border-bottom-color: var(--fill-color);\n",
              "    }\n",
              "    90% {\n",
              "      border-color: transparent;\n",
              "      border-bottom-color: var(--fill-color);\n",
              "    }\n",
              "  }\n",
              "</style>\n",
              "\n",
              "  <script>\n",
              "    async function quickchart(key) {\n",
              "      const quickchartButtonEl =\n",
              "        document.querySelector('#' + key + ' button');\n",
              "      quickchartButtonEl.disabled = true;  // To prevent multiple clicks.\n",
              "      quickchartButtonEl.classList.add('colab-df-spinner');\n",
              "      try {\n",
              "        const charts = await google.colab.kernel.invokeFunction(\n",
              "            'suggestCharts', [key], {});\n",
              "      } catch (error) {\n",
              "        console.error('Error during call to suggestCharts:', error);\n",
              "      }\n",
              "      quickchartButtonEl.classList.remove('colab-df-spinner');\n",
              "      quickchartButtonEl.classList.add('colab-df-quickchart-complete');\n",
              "    }\n",
              "    (() => {\n",
              "      let quickchartButtonEl =\n",
              "        document.querySelector('#df-73c2d547-b94d-49cb-baff-802ee5f530e3 button');\n",
              "      quickchartButtonEl.style.display =\n",
              "        google.colab.kernel.accessAllowed ? 'block' : 'none';\n",
              "    })();\n",
              "  </script>\n",
              "</div>\n",
              "    </div>\n",
              "  </div>\n"
            ],
            "application/vnd.google.colaboratory.intrinsic+json": {
              "type": "dataframe",
              "variable_name": "df",
              "summary": "{\n  \"name\": \"df\",\n  \"rows\": 4,\n  \"fields\": [\n    {\n      \"column\": \"CPU\",\n      \"properties\": {\n        \"dtype\": \"number\",\n        \"std\": 0.00877707610046737,\n        \"min\": 6.659825642903645e-05,\n        \"max\": 0.018445380528767905,\n        \"num_unique_values\": 4,\n        \"samples\": [\n          0.0003541151682535807,\n          0.018445380528767905,\n          6.659825642903645e-05\n        ],\n        \"semantic_type\": \"\",\n        \"description\": \"\"\n      }\n    },\n    {\n      \"column\": \"GPU\",\n      \"properties\": {\n        \"dtype\": \"number\",\n        \"std\": 0.004764397296564341,\n        \"min\": 0.00017355283101399738,\n        \"max\": 0.010252793629964193,\n        \"num_unique_values\": 4,\n        \"samples\": [\n          0.0004330317179361979,\n          0.010252793629964193,\n          0.00017355283101399738\n        ],\n        \"semantic_type\": \"\",\n        \"description\": \"\"\n      }\n    }\n  ]\n}"
            }
          },
          "metadata": {},
          "execution_count": 8
        }
      ],
      "source": [
        "df = pd.DataFrame({\"CPU\": mean_times_host_matmul, \"GPU\": mean_times_dev_matmul}, index=sizes)\n",
        "df.to_excel(\"CPU and GPU.xlsx\")\n",
        "df"
      ]
    },
    {
      "cell_type": "code",
      "execution_count": null,
      "metadata": {
        "id": "8LmsqM6jzGvr"
      },
      "outputs": [],
      "source": []
    }
  ],
  "metadata": {
    "accelerator": "GPU",
    "colab": {
      "provenance": []
    },
    "kernelspec": {
      "display_name": "Python 3",
      "name": "python3"
    },
    "language_info": {
      "codemirror_mode": {
        "name": "ipython",
        "version": 3
      },
      "file_extension": ".py",
      "mimetype": "text/x-python",
      "name": "python",
      "nbconvert_exporter": "python",
      "pygments_lexer": "ipython3",
      "version": "3.9.9"
    }
  },
  "nbformat": 4,
  "nbformat_minor": 0
}