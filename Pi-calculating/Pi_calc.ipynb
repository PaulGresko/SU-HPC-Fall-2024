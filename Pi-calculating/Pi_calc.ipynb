{
  "nbformat": 4,
  "nbformat_minor": 0,
  "metadata": {
    "colab": {
      "provenance": []
    },
    "kernelspec": {
      "name": "python3",
      "display_name": "Python 3"
    },
    "language_info": {
      "name": "python"
    },
    "accelerator": "GPU"
  },
  "cells": [
    {
      "cell_type": "markdown",
      "metadata": {
        "id": "CKqTgTdfwonn"
      },
      "source": [
        "Установка библиотеки numba"
      ]
    },
    {
      "cell_type": "code",
      "metadata": {
        "id": "kjzfL3_27EvO",
        "colab": {
          "base_uri": "https://localhost:8080/"
        },
        "outputId": "6587eeb7-fad0-4f5d-a53c-a69fd043dcca"
      },
      "source": [
        "!pip install numba"
      ],
      "execution_count": 1,
      "outputs": [
        {
          "output_type": "stream",
          "name": "stdout",
          "text": [
            "Requirement already satisfied: numba in /usr/local/lib/python3.10/dist-packages (0.60.0)\n",
            "Requirement already satisfied: llvmlite<0.44,>=0.43.0dev0 in /usr/local/lib/python3.10/dist-packages (from numba) (0.43.0)\n",
            "Requirement already satisfied: numpy<2.1,>=1.22 in /usr/local/lib/python3.10/dist-packages (from numba) (1.26.4)\n"
          ]
        }
      ]
    },
    {
      "cell_type": "code",
      "metadata": {
        "id": "HkZM79qDCdLN"
      },
      "source": [
        "import numpy as np\n",
        "import pandas as pd\n",
        "from time import time\n",
        "import matplotlib.pyplot as plt\n",
        "\n",
        "from numba import cuda\n",
        "from numba.cuda.random import create_xoroshiro128p_states, xoroshiro128p_uniform_float32"
      ],
      "execution_count": 2,
      "outputs": []
    },
    {
      "cell_type": "markdown",
      "metadata": {
        "id": "8SjLPiy6xEMC"
      },
      "source": [
        "GPU-реализация вычисления числа pi"
      ]
    },
    {
      "cell_type": "code",
      "metadata": {
        "id": "TDg_GXHoD99S"
      },
      "source": [
        "@cuda.jit\n",
        "def gpu_pi_calculating(pi, coef, states):\n",
        "\ttidx = cuda.threadIdx.x + cuda.blockDim.x * cuda.blockIdx.x\n",
        "\tx = xoroshiro128p_uniform_float32(states, tidx)\n",
        "\ty = xoroshiro128p_uniform_float32(states, tidx)\n",
        "\tif x*x + y*y < 1:\n",
        "\t\tcuda.atomic.add(pi, 0, coef)"
      ],
      "execution_count": 3,
      "outputs": []
    },
    {
      "cell_type": "markdown",
      "metadata": {
        "id": "nJOZ8kBoDtBA"
      },
      "source": [
        "CPU-реализация вычисления числа pi"
      ]
    },
    {
      "cell_type": "code",
      "metadata": {
        "id": "Jp2XGGqkSJmv"
      },
      "source": [
        "def cpu_pi_calculating(size):\n",
        "  result = 0\n",
        "  coef = 4/size\n",
        "  pnts = np.random.rand(size, 2)\n",
        "  for x, y in pnts:\n",
        "    result += coef if (x*x + y*y) < 1 else 0\n",
        "  return result"
      ],
      "execution_count": 4,
      "outputs": []
    },
    {
      "cell_type": "markdown",
      "metadata": {
        "id": "ZiyqjK10xYfL"
      },
      "source": [
        "Сравнение подходов"
      ]
    },
    {
      "cell_type": "code",
      "metadata": {
        "id": "7Wr6r_trK07r",
        "colab": {
          "base_uri": "https://localhost:8080/",
          "height": 477
        },
        "outputId": "ca3c45dd-cec6-4f8f-bcd0-763699f5c346"
      },
      "source": [
        "sizes = np.array([1024, 5120, 10240, 51200, 102400, 512000, 1024000])\n",
        "iterations = 10               # Количество итераций без \"холодного старта\"\n",
        "_iterations = iterations + 1  # Количество итераций с \"холодным стартом\"\n",
        "BLOCK_SIZE = 1024                # Размерность одного блока\n",
        "\n",
        "\"\"\"\n",
        "Словарь значений для сравнения подходов,\n",
        "где среднее отклонение является средним модулем разности между истинным\n",
        "значением pi и подсчитанным.\n",
        "\"\"\"\n",
        "values = {\"Размерности\":sizes,\n",
        "          \"CPU:Среднее время\":np.zeros(len(sizes)),\n",
        "          \"GPU:Среднее время\":np.zeros(len(sizes)),\n",
        "          \"CPU:Среднее отклонение\":np.zeros(len(sizes)),\n",
        "          \"GPU:Среднее отклонение\":np.zeros(len(sizes)),\n",
        "          \"CPU:Последнее значение pi\":np.zeros(len(sizes)),\n",
        "          \"GPU:Последнее значение pi\":np.zeros(len(sizes))}\n",
        "\n",
        "for i_size in range(len(sizes)):\n",
        "\n",
        "  coef = np.float32(4/sizes[i_size])\n",
        "\n",
        "  grid_dim = int((sizes[i_size] + BLOCK_SIZE - 1) / BLOCK_SIZE)\n",
        "\n",
        "  # Массивы с временами на соответствующем устройстве для вычисления среднего\n",
        "  iter_values = {\"CPU:Время\":np.zeros(_iterations),\n",
        "                 \"GPU:Время\":np.zeros(_iterations),\n",
        "                 \"CPU:Отклонение\":np.zeros(_iterations),\n",
        "                 \"GPU:Отклонение\":np.zeros(_iterations)}\n",
        "\n",
        "  for iter in range(_iterations):\n",
        "    gpu_pi = np.zeros(1, dtype=np.float32)\n",
        "    cpu_pi = 0\n",
        "\n",
        "    # Вычисление времени на GPU (с учётом пересылки данных)\n",
        "    start_time = time()\n",
        "    # Создание генератора случайных чисел\n",
        "    states = create_xoroshiro128p_states(n=grid_dim * BLOCK_SIZE, seed=123)\n",
        "    # Запуск GPU-реализации\n",
        "    gpu_pi_calculating[grid_dim, BLOCK_SIZE](gpu_pi, coef, states)\n",
        "    end_time = time()\n",
        "    iter_values[\"GPU:Время\"][iter] = end_time - start_time\n",
        "    iter_values[\"GPU:Отклонение\"][iter] = np.abs(np.pi - gpu_pi[0])\n",
        "\n",
        "    # Суммирование с помощью стандартного sum\n",
        "    start_time = time()\n",
        "    cpu_pi = cpu_pi_calculating(sizes[i_size])\n",
        "    end_time = time()\n",
        "    iter_values[\"CPU:Время\"][iter] = end_time - start_time\n",
        "    iter_values[\"CPU:Отклонение\"][iter] = np.abs(np.pi - cpu_pi)\n",
        "\n",
        "\n",
        "  # Вычисление среднего значения времени без \"холодного старта\"\n",
        "  values[\"GPU:Среднее время\"][i_size] = np.mean(iter_values[\"GPU:Время\"][1:])\n",
        "  values[\"CPU:Среднее время\"][i_size] = np.mean(iter_values[\"CPU:Время\"][1:])\n",
        "  values[\"CPU:Среднее отклонение\"][i_size] = np.mean(iter_values[\"CPU:Отклонение\"])\n",
        "  values[\"GPU:Среднее отклонение\"][i_size] = np.mean(iter_values[\"GPU:Отклонение\"])\n",
        "  values[\"CPU:Последнее значение pi\"][i_size] = cpu_pi\n",
        "  values[\"GPU:Последнее значение pi\"][i_size] = gpu_pi[0]\n",
        "\n",
        "# Сравнение результатов\n",
        "results = pd.DataFrame(values)\n",
        "results"
      ],
      "execution_count": 5,
      "outputs": [
        {
          "output_type": "stream",
          "name": "stderr",
          "text": [
            "/usr/local/lib/python3.10/dist-packages/numba/cuda/dispatcher.py:536: NumbaPerformanceWarning: Grid size 1 will likely result in GPU under-utilization due to low occupancy.\n",
            "  warn(NumbaPerformanceWarning(msg))\n",
            "/usr/local/lib/python3.10/dist-packages/numba/cuda/cudadrv/devicearray.py:888: NumbaPerformanceWarning: Host array used in CUDA kernel will incur copy overhead to/from device.\n",
            "  warn(NumbaPerformanceWarning(msg))\n",
            "/usr/local/lib/python3.10/dist-packages/numba/cuda/dispatcher.py:536: NumbaPerformanceWarning: Grid size 5 will likely result in GPU under-utilization due to low occupancy.\n",
            "  warn(NumbaPerformanceWarning(msg))\n",
            "/usr/local/lib/python3.10/dist-packages/numba/cuda/dispatcher.py:536: NumbaPerformanceWarning: Grid size 10 will likely result in GPU under-utilization due to low occupancy.\n",
            "  warn(NumbaPerformanceWarning(msg))\n",
            "/usr/local/lib/python3.10/dist-packages/numba/cuda/dispatcher.py:536: NumbaPerformanceWarning: Grid size 50 will likely result in GPU under-utilization due to low occupancy.\n",
            "  warn(NumbaPerformanceWarning(msg))\n",
            "/usr/local/lib/python3.10/dist-packages/numba/cuda/dispatcher.py:536: NumbaPerformanceWarning: Grid size 100 will likely result in GPU under-utilization due to low occupancy.\n",
            "  warn(NumbaPerformanceWarning(msg))\n"
          ]
        },
        {
          "output_type": "execute_result",
          "data": {
            "text/plain": [
              "   Размерности  CPU:Среднее время  GPU:Среднее время  CPU:Среднее отклонение  \\\n",
              "0         1024           0.008483           0.006361                0.050338   \n",
              "1         5120           0.034167           0.010171                0.019836   \n",
              "2        10240           0.087663           0.018893                0.009500   \n",
              "3        51200           0.207815           0.037412                0.004761   \n",
              "4       102400           0.163347           0.029827                0.003613   \n",
              "5       512000           0.782121           0.139327                0.001603   \n",
              "6      1024000           1.282631           0.234657                0.001129   \n",
              "\n",
              "   GPU:Среднее отклонение  CPU:Последнее значение pi  \\\n",
              "0                0.028311                   3.148438   \n",
              "1                0.027412                   3.117969   \n",
              "2                0.035917                   3.117578   \n",
              "3                0.007138                   3.143359   \n",
              "4                0.004474                   3.136953   \n",
              "5                0.013734                   3.144945   \n",
              "6                0.017745                   3.142109   \n",
              "\n",
              "   GPU:Последнее значение pi  \n",
              "0                   3.113281  \n",
              "1                   3.114181  \n",
              "2                   3.105675  \n",
              "3                   3.134455  \n",
              "4                   3.137118  \n",
              "5                   3.155327  \n",
              "6                   3.123848  "
            ],
            "text/html": [
              "\n",
              "  <div id=\"df-89befd73-f2ed-467a-a68b-ad8019eee123\" class=\"colab-df-container\">\n",
              "    <div>\n",
              "<style scoped>\n",
              "    .dataframe tbody tr th:only-of-type {\n",
              "        vertical-align: middle;\n",
              "    }\n",
              "\n",
              "    .dataframe tbody tr th {\n",
              "        vertical-align: top;\n",
              "    }\n",
              "\n",
              "    .dataframe thead th {\n",
              "        text-align: right;\n",
              "    }\n",
              "</style>\n",
              "<table border=\"1\" class=\"dataframe\">\n",
              "  <thead>\n",
              "    <tr style=\"text-align: right;\">\n",
              "      <th></th>\n",
              "      <th>Размерности</th>\n",
              "      <th>CPU:Среднее время</th>\n",
              "      <th>GPU:Среднее время</th>\n",
              "      <th>CPU:Среднее отклонение</th>\n",
              "      <th>GPU:Среднее отклонение</th>\n",
              "      <th>CPU:Последнее значение pi</th>\n",
              "      <th>GPU:Последнее значение pi</th>\n",
              "    </tr>\n",
              "  </thead>\n",
              "  <tbody>\n",
              "    <tr>\n",
              "      <th>0</th>\n",
              "      <td>1024</td>\n",
              "      <td>0.008483</td>\n",
              "      <td>0.006361</td>\n",
              "      <td>0.050338</td>\n",
              "      <td>0.028311</td>\n",
              "      <td>3.148438</td>\n",
              "      <td>3.113281</td>\n",
              "    </tr>\n",
              "    <tr>\n",
              "      <th>1</th>\n",
              "      <td>5120</td>\n",
              "      <td>0.034167</td>\n",
              "      <td>0.010171</td>\n",
              "      <td>0.019836</td>\n",
              "      <td>0.027412</td>\n",
              "      <td>3.117969</td>\n",
              "      <td>3.114181</td>\n",
              "    </tr>\n",
              "    <tr>\n",
              "      <th>2</th>\n",
              "      <td>10240</td>\n",
              "      <td>0.087663</td>\n",
              "      <td>0.018893</td>\n",
              "      <td>0.009500</td>\n",
              "      <td>0.035917</td>\n",
              "      <td>3.117578</td>\n",
              "      <td>3.105675</td>\n",
              "    </tr>\n",
              "    <tr>\n",
              "      <th>3</th>\n",
              "      <td>51200</td>\n",
              "      <td>0.207815</td>\n",
              "      <td>0.037412</td>\n",
              "      <td>0.004761</td>\n",
              "      <td>0.007138</td>\n",
              "      <td>3.143359</td>\n",
              "      <td>3.134455</td>\n",
              "    </tr>\n",
              "    <tr>\n",
              "      <th>4</th>\n",
              "      <td>102400</td>\n",
              "      <td>0.163347</td>\n",
              "      <td>0.029827</td>\n",
              "      <td>0.003613</td>\n",
              "      <td>0.004474</td>\n",
              "      <td>3.136953</td>\n",
              "      <td>3.137118</td>\n",
              "    </tr>\n",
              "    <tr>\n",
              "      <th>5</th>\n",
              "      <td>512000</td>\n",
              "      <td>0.782121</td>\n",
              "      <td>0.139327</td>\n",
              "      <td>0.001603</td>\n",
              "      <td>0.013734</td>\n",
              "      <td>3.144945</td>\n",
              "      <td>3.155327</td>\n",
              "    </tr>\n",
              "    <tr>\n",
              "      <th>6</th>\n",
              "      <td>1024000</td>\n",
              "      <td>1.282631</td>\n",
              "      <td>0.234657</td>\n",
              "      <td>0.001129</td>\n",
              "      <td>0.017745</td>\n",
              "      <td>3.142109</td>\n",
              "      <td>3.123848</td>\n",
              "    </tr>\n",
              "  </tbody>\n",
              "</table>\n",
              "</div>\n",
              "    <div class=\"colab-df-buttons\">\n",
              "\n",
              "  <div class=\"colab-df-container\">\n",
              "    <button class=\"colab-df-convert\" onclick=\"convertToInteractive('df-89befd73-f2ed-467a-a68b-ad8019eee123')\"\n",
              "            title=\"Convert this dataframe to an interactive table.\"\n",
              "            style=\"display:none;\">\n",
              "\n",
              "  <svg xmlns=\"http://www.w3.org/2000/svg\" height=\"24px\" viewBox=\"0 -960 960 960\">\n",
              "    <path d=\"M120-120v-720h720v720H120Zm60-500h600v-160H180v160Zm220 220h160v-160H400v160Zm0 220h160v-160H400v160ZM180-400h160v-160H180v160Zm440 0h160v-160H620v160ZM180-180h160v-160H180v160Zm440 0h160v-160H620v160Z\"/>\n",
              "  </svg>\n",
              "    </button>\n",
              "\n",
              "  <style>\n",
              "    .colab-df-container {\n",
              "      display:flex;\n",
              "      gap: 12px;\n",
              "    }\n",
              "\n",
              "    .colab-df-convert {\n",
              "      background-color: #E8F0FE;\n",
              "      border: none;\n",
              "      border-radius: 50%;\n",
              "      cursor: pointer;\n",
              "      display: none;\n",
              "      fill: #1967D2;\n",
              "      height: 32px;\n",
              "      padding: 0 0 0 0;\n",
              "      width: 32px;\n",
              "    }\n",
              "\n",
              "    .colab-df-convert:hover {\n",
              "      background-color: #E2EBFA;\n",
              "      box-shadow: 0px 1px 2px rgba(60, 64, 67, 0.3), 0px 1px 3px 1px rgba(60, 64, 67, 0.15);\n",
              "      fill: #174EA6;\n",
              "    }\n",
              "\n",
              "    .colab-df-buttons div {\n",
              "      margin-bottom: 4px;\n",
              "    }\n",
              "\n",
              "    [theme=dark] .colab-df-convert {\n",
              "      background-color: #3B4455;\n",
              "      fill: #D2E3FC;\n",
              "    }\n",
              "\n",
              "    [theme=dark] .colab-df-convert:hover {\n",
              "      background-color: #434B5C;\n",
              "      box-shadow: 0px 1px 3px 1px rgba(0, 0, 0, 0.15);\n",
              "      filter: drop-shadow(0px 1px 2px rgba(0, 0, 0, 0.3));\n",
              "      fill: #FFFFFF;\n",
              "    }\n",
              "  </style>\n",
              "\n",
              "    <script>\n",
              "      const buttonEl =\n",
              "        document.querySelector('#df-89befd73-f2ed-467a-a68b-ad8019eee123 button.colab-df-convert');\n",
              "      buttonEl.style.display =\n",
              "        google.colab.kernel.accessAllowed ? 'block' : 'none';\n",
              "\n",
              "      async function convertToInteractive(key) {\n",
              "        const element = document.querySelector('#df-89befd73-f2ed-467a-a68b-ad8019eee123');\n",
              "        const dataTable =\n",
              "          await google.colab.kernel.invokeFunction('convertToInteractive',\n",
              "                                                    [key], {});\n",
              "        if (!dataTable) return;\n",
              "\n",
              "        const docLinkHtml = 'Like what you see? Visit the ' +\n",
              "          '<a target=\"_blank\" href=https://colab.research.google.com/notebooks/data_table.ipynb>data table notebook</a>'\n",
              "          + ' to learn more about interactive tables.';\n",
              "        element.innerHTML = '';\n",
              "        dataTable['output_type'] = 'display_data';\n",
              "        await google.colab.output.renderOutput(dataTable, element);\n",
              "        const docLink = document.createElement('div');\n",
              "        docLink.innerHTML = docLinkHtml;\n",
              "        element.appendChild(docLink);\n",
              "      }\n",
              "    </script>\n",
              "  </div>\n",
              "\n",
              "\n",
              "<div id=\"df-d7bf15bb-2365-42db-8ff6-a3f3a3d81d95\">\n",
              "  <button class=\"colab-df-quickchart\" onclick=\"quickchart('df-d7bf15bb-2365-42db-8ff6-a3f3a3d81d95')\"\n",
              "            title=\"Suggest charts\"\n",
              "            style=\"display:none;\">\n",
              "\n",
              "<svg xmlns=\"http://www.w3.org/2000/svg\" height=\"24px\"viewBox=\"0 0 24 24\"\n",
              "     width=\"24px\">\n",
              "    <g>\n",
              "        <path d=\"M19 3H5c-1.1 0-2 .9-2 2v14c0 1.1.9 2 2 2h14c1.1 0 2-.9 2-2V5c0-1.1-.9-2-2-2zM9 17H7v-7h2v7zm4 0h-2V7h2v10zm4 0h-2v-4h2v4z\"/>\n",
              "    </g>\n",
              "</svg>\n",
              "  </button>\n",
              "\n",
              "<style>\n",
              "  .colab-df-quickchart {\n",
              "      --bg-color: #E8F0FE;\n",
              "      --fill-color: #1967D2;\n",
              "      --hover-bg-color: #E2EBFA;\n",
              "      --hover-fill-color: #174EA6;\n",
              "      --disabled-fill-color: #AAA;\n",
              "      --disabled-bg-color: #DDD;\n",
              "  }\n",
              "\n",
              "  [theme=dark] .colab-df-quickchart {\n",
              "      --bg-color: #3B4455;\n",
              "      --fill-color: #D2E3FC;\n",
              "      --hover-bg-color: #434B5C;\n",
              "      --hover-fill-color: #FFFFFF;\n",
              "      --disabled-bg-color: #3B4455;\n",
              "      --disabled-fill-color: #666;\n",
              "  }\n",
              "\n",
              "  .colab-df-quickchart {\n",
              "    background-color: var(--bg-color);\n",
              "    border: none;\n",
              "    border-radius: 50%;\n",
              "    cursor: pointer;\n",
              "    display: none;\n",
              "    fill: var(--fill-color);\n",
              "    height: 32px;\n",
              "    padding: 0;\n",
              "    width: 32px;\n",
              "  }\n",
              "\n",
              "  .colab-df-quickchart:hover {\n",
              "    background-color: var(--hover-bg-color);\n",
              "    box-shadow: 0 1px 2px rgba(60, 64, 67, 0.3), 0 1px 3px 1px rgba(60, 64, 67, 0.15);\n",
              "    fill: var(--button-hover-fill-color);\n",
              "  }\n",
              "\n",
              "  .colab-df-quickchart-complete:disabled,\n",
              "  .colab-df-quickchart-complete:disabled:hover {\n",
              "    background-color: var(--disabled-bg-color);\n",
              "    fill: var(--disabled-fill-color);\n",
              "    box-shadow: none;\n",
              "  }\n",
              "\n",
              "  .colab-df-spinner {\n",
              "    border: 2px solid var(--fill-color);\n",
              "    border-color: transparent;\n",
              "    border-bottom-color: var(--fill-color);\n",
              "    animation:\n",
              "      spin 1s steps(1) infinite;\n",
              "  }\n",
              "\n",
              "  @keyframes spin {\n",
              "    0% {\n",
              "      border-color: transparent;\n",
              "      border-bottom-color: var(--fill-color);\n",
              "      border-left-color: var(--fill-color);\n",
              "    }\n",
              "    20% {\n",
              "      border-color: transparent;\n",
              "      border-left-color: var(--fill-color);\n",
              "      border-top-color: var(--fill-color);\n",
              "    }\n",
              "    30% {\n",
              "      border-color: transparent;\n",
              "      border-left-color: var(--fill-color);\n",
              "      border-top-color: var(--fill-color);\n",
              "      border-right-color: var(--fill-color);\n",
              "    }\n",
              "    40% {\n",
              "      border-color: transparent;\n",
              "      border-right-color: var(--fill-color);\n",
              "      border-top-color: var(--fill-color);\n",
              "    }\n",
              "    60% {\n",
              "      border-color: transparent;\n",
              "      border-right-color: var(--fill-color);\n",
              "    }\n",
              "    80% {\n",
              "      border-color: transparent;\n",
              "      border-right-color: var(--fill-color);\n",
              "      border-bottom-color: var(--fill-color);\n",
              "    }\n",
              "    90% {\n",
              "      border-color: transparent;\n",
              "      border-bottom-color: var(--fill-color);\n",
              "    }\n",
              "  }\n",
              "</style>\n",
              "\n",
              "  <script>\n",
              "    async function quickchart(key) {\n",
              "      const quickchartButtonEl =\n",
              "        document.querySelector('#' + key + ' button');\n",
              "      quickchartButtonEl.disabled = true;  // To prevent multiple clicks.\n",
              "      quickchartButtonEl.classList.add('colab-df-spinner');\n",
              "      try {\n",
              "        const charts = await google.colab.kernel.invokeFunction(\n",
              "            'suggestCharts', [key], {});\n",
              "      } catch (error) {\n",
              "        console.error('Error during call to suggestCharts:', error);\n",
              "      }\n",
              "      quickchartButtonEl.classList.remove('colab-df-spinner');\n",
              "      quickchartButtonEl.classList.add('colab-df-quickchart-complete');\n",
              "    }\n",
              "    (() => {\n",
              "      let quickchartButtonEl =\n",
              "        document.querySelector('#df-d7bf15bb-2365-42db-8ff6-a3f3a3d81d95 button');\n",
              "      quickchartButtonEl.style.display =\n",
              "        google.colab.kernel.accessAllowed ? 'block' : 'none';\n",
              "    })();\n",
              "  </script>\n",
              "</div>\n",
              "    </div>\n",
              "  </div>\n"
            ],
            "application/vnd.google.colaboratory.intrinsic+json": {
              "type": "dataframe",
              "variable_name": "results",
              "summary": "{\n  \"name\": \"results\",\n  \"rows\": 7,\n  \"fields\": [\n    {\n      \"column\": \"\\u0420\\u0430\\u0437\\u043c\\u0435\\u0440\\u043d\\u043e\\u0441\\u0442\\u0438\",\n      \"properties\": {\n        \"dtype\": \"number\",\n        \"std\": 389056,\n        \"min\": 1024,\n        \"max\": 1024000,\n        \"num_unique_values\": 7,\n        \"samples\": [\n          1024,\n          5120,\n          512000\n        ],\n        \"semantic_type\": \"\",\n        \"description\": \"\"\n      }\n    },\n    {\n      \"column\": \"CPU:\\u0421\\u0440\\u0435\\u0434\\u043d\\u0435\\u0435 \\u0432\\u0440\\u0435\\u043c\\u044f\",\n      \"properties\": {\n        \"dtype\": \"number\",\n        \"std\": 0.48215829026304374,\n        \"min\": 0.008482980728149413,\n        \"max\": 1.2826306819915771,\n        \"num_unique_values\": 7,\n        \"samples\": [\n          0.008482980728149413,\n          0.03416705131530762,\n          0.7821212768554687\n        ],\n        \"semantic_type\": \"\",\n        \"description\": \"\"\n      }\n    },\n    {\n      \"column\": \"GPU:\\u0421\\u0440\\u0435\\u0434\\u043d\\u0435\\u0435 \\u0432\\u0440\\u0435\\u043c\\u044f\",\n      \"properties\": {\n        \"dtype\": \"number\",\n        \"std\": 0.08641937730266709,\n        \"min\": 0.006361150741577148,\n        \"max\": 0.2346565008163452,\n        \"num_unique_values\": 7,\n        \"samples\": [\n          0.006361150741577148,\n          0.010170626640319824,\n          0.13932714462280274\n        ],\n        \"semantic_type\": \"\",\n        \"description\": \"\"\n      }\n    },\n    {\n      \"column\": \"CPU:\\u0421\\u0440\\u0435\\u0434\\u043d\\u0435\\u0435 \\u043e\\u0442\\u043a\\u043b\\u043e\\u043d\\u0435\\u043d\\u0438\\u0435\",\n      \"properties\": {\n        \"dtype\": \"number\",\n        \"std\": 0.017700807242328788,\n        \"min\": 0.0011293610329658225,\n        \"max\": 0.050338167855473355,\n        \"num_unique_values\": 7,\n        \"samples\": [\n          0.050338167855473355,\n          0.019835526293746165,\n          0.0016028832826969056\n        ],\n        \"semantic_type\": \"\",\n        \"description\": \"\"\n      }\n    },\n    {\n      \"column\": \"GPU:\\u0421\\u0440\\u0435\\u0434\\u043d\\u0435\\u0435 \\u043e\\u0442\\u043a\\u043b\\u043e\\u043d\\u0435\\u043d\\u0438\\u0435\",\n      \"properties\": {\n        \"dtype\": \"number\",\n        \"std\": 0.011720673204253127,\n        \"min\": 0.004474314051218897,\n        \"max\": 0.03591719468171206,\n        \"num_unique_values\": 7,\n        \"samples\": [\n          0.028311403589793116,\n          0.027412088709422022,\n          0.013733951253346532\n        ],\n        \"semantic_type\": \"\",\n        \"description\": \"\"\n      }\n    },\n    {\n      \"column\": \"CPU:\\u041f\\u043e\\u0441\\u043b\\u0435\\u0434\\u043d\\u0435\\u0435 \\u0437\\u043d\\u0430\\u0447\\u0435\\u043d\\u0438\\u0435 pi\",\n      \"properties\": {\n        \"dtype\": \"number\",\n        \"std\": 0.01285518520077127,\n        \"min\": 3.117578125000441,\n        \"max\": 3.1484375,\n        \"num_unique_values\": 7,\n        \"samples\": [\n          3.1484375,\n          3.117968750000174,\n          3.144945312479631\n        ],\n        \"semantic_type\": \"\",\n        \"description\": \"\"\n      }\n    },\n    {\n      \"column\": \"GPU:\\u041f\\u043e\\u0441\\u043b\\u0435\\u0434\\u043d\\u0435\\u0435 \\u0437\\u043d\\u0430\\u0447\\u0435\\u043d\\u0438\\u0435 pi\",\n      \"properties\": {\n        \"dtype\": \"number\",\n        \"std\": 0.017194141591796115,\n        \"min\": 3.105675458908081,\n        \"max\": 3.1553266048431396,\n        \"num_unique_values\": 7,\n        \"samples\": [\n          3.11328125,\n          3.114180564880371,\n          3.1553266048431396\n        ],\n        \"semantic_type\": \"\",\n        \"description\": \"\"\n      }\n    }\n  ]\n}"
            }
          },
          "metadata": {},
          "execution_count": 5
        }
      ]
    },
    {
      "cell_type": "markdown",
      "metadata": {
        "id": "fbwgRnHx2_eC"
      },
      "source": [
        "Сравнение скоростей подходов"
      ]
    },
    {
      "cell_type": "code",
      "metadata": {
        "id": "BRDVZp89wuzR",
        "colab": {
          "base_uri": "https://localhost:8080/",
          "height": 489
        },
        "outputId": "c8b8b5d1-4841-43f4-b1fe-30c5fbb04eab"
      },
      "source": [
        "plt.plot(sizes, results[\"CPU:Среднее время\"], color=\"blue\", label=\"CPU\")\n",
        "plt.plot(sizes, results[\"GPU:Среднее время\"], color=\"red\", label=\"GPU\")\n",
        "plt.title(\"Сравнение времени вычислений\")\n",
        "plt.xlabel(\"Количество точек N, шт\")\n",
        "plt.ylabel(\"Время, с\")\n",
        "plt.grid()\n",
        "plt.legend()"
      ],
      "execution_count": 6,
      "outputs": [
        {
          "output_type": "execute_result",
          "data": {
            "text/plain": [
              "<matplotlib.legend.Legend at 0x7fe52f4d4fa0>"
            ]
          },
          "metadata": {},
          "execution_count": 6
        },
        {
          "output_type": "display_data",
          "data": {
            "text/plain": [
              "<Figure size 640x480 with 1 Axes>"
            ],
            "image/png": "[encoded data removed]"
          },
          "metadata": {}
        }
      ]
    },
    {
      "cell_type": "markdown",
      "metadata": {
        "id": "DNLv9w7W3hh5"
      },
      "source": [
        "Визуализация ускорения"
      ]
    },
    {
      "cell_type": "code",
      "metadata": {
        "id": "pxMw3MXIuCij",
        "colab": {
          "base_uri": "https://localhost:8080/",
          "height": 472
        },
        "outputId": "fddee3da-abeb-4bcc-915f-cc5a52df7107"
      },
      "source": [
        "plt.plot(sizes, results[\"CPU:Среднее время\"] / results[\"GPU:Среднее время\"])\n",
        "plt.title(\"Ускорение\")\n",
        "plt.xlabel(\"Количество точек N, шт\")\n",
        "plt.ylabel(\"Отношение времени на CPU к времени на GPU\")\n",
        "plt.grid()"
      ],
      "execution_count": 7,
      "outputs": [
        {
          "output_type": "display_data",
          "data": {
            "text/plain": [
              "<Figure size 640x480 with 1 Axes>"
            ],
            "image/png": "[encoded data removed]"
          },
          "metadata": {}
        }
      ]
    },
    {
      "cell_type": "markdown",
      "metadata": {
        "id": "riSLzmap4HSt"
      },
      "source": [
        "Сохранение результатов в excel"
      ]
    },
    {
      "cell_type": "code",
      "metadata": {
        "id": "8aMme_ZoQmBx"
      },
      "source": [
        "results.to_excel(\"CPU and GPU.xlsx\")"
      ],
      "execution_count": 8,
      "outputs": []
    }
  ]
}